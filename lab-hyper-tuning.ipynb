{
 "cells": [
  {
   "cell_type": "markdown",
   "metadata": {},
   "source": [
    "# LAB | Hyperparameter Tuning"
   ]
  },
  {
   "cell_type": "markdown",
   "metadata": {},
   "source": [
    "**Load the data**\n",
    "\n",
    "Finally step in order to maximize the performance on your Spaceship Titanic model.\n",
    "\n",
    "The data can be found here:\n",
    "\n",
    "https://raw.githubusercontent.com/data-bootcamp-v4/data/main/spaceship_titanic.csv\n",
    "\n",
    "Metadata\n",
    "\n",
    "https://github.com/data-bootcamp-v4/data/blob/main/spaceship_titanic.md"
   ]
  },
  {
   "cell_type": "markdown",
   "metadata": {},
   "source": [
    "So far we've been training and evaluating models with default values for hyperparameters.\n",
    "\n",
    "Today we will perform the same feature engineering as before, and then compare the best working models you got so far, but now fine tuning it's hyperparameters."
   ]
  },
  {
   "cell_type": "code",
   "execution_count": 1,
   "metadata": {},
   "outputs": [],
   "source": [
    "import pandas as pd\n",
    "from sklearn.model_selection import train_test_split, GridSearchCV, cross_val_score\n",
    "from sklearn.ensemble import RandomForestClassifier\n",
    "from sklearn.metrics import accuracy_score, classification_report, confusion_matrix\n",
    "from sklearn.preprocessing import StandardScaler"
   ]
  },
  {
   "cell_type": "code",
   "execution_count": 2,
   "metadata": {},
   "outputs": [],
   "source": [
    "spaceship = pd.read_csv('https://raw.githubusercontent.com/data-bootcamp-v4/data/main/spaceship_titanic.csv')\n",
    "# spaceship.head()"
   ]
  },
  {
   "cell_type": "markdown",
   "metadata": {},
   "source": [
    "Now perform the same as before:\n",
    "- Feature Scaling\n",
    "- Feature Selection\n"
   ]
  },
  {
   "cell_type": "code",
   "execution_count": 3,
   "metadata": {},
   "outputs": [],
   "source": [
    "# drop empty values\n",
    "initial_row_count = len(spaceship)\n",
    "spaceship = spaceship.dropna()\n",
    "final_row_count = len(spaceship)\n",
    "dropped_rows = initial_row_count - final_row_count\n",
    "# print(f'Dropped rows: {dropped_rows}\\n{spaceship}')\n",
    "\n",
    "# extract the deck as the first letter, then create binary features for each deck\n",
    "spaceship['Deck'] = spaceship['Cabin'].str.extract(r'([A-GT])', expand=False)\n",
    "\n",
    "# create binary columns for each deck\n",
    "spaceship = pd.get_dummies(spaceship, columns=['Deck'], prefix='Deck')\n",
    "\n",
    "# drop columns\n",
    "spaceship = spaceship.drop(columns=['PassengerId', 'Name'])\n",
    "# spaceship.head()"
   ]
  },
  {
   "cell_type": "code",
   "execution_count": 4,
   "metadata": {},
   "outputs": [
    {
     "data": {
      "text/html": [
       "<div>\n",
       "<style scoped>\n",
       "    .dataframe tbody tr th:only-of-type {\n",
       "        vertical-align: middle;\n",
       "    }\n",
       "\n",
       "    .dataframe tbody tr th {\n",
       "        vertical-align: top;\n",
       "    }\n",
       "\n",
       "    .dataframe thead th {\n",
       "        text-align: right;\n",
       "    }\n",
       "</style>\n",
       "<table border=\"1\" class=\"dataframe\">\n",
       "  <thead>\n",
       "    <tr style=\"text-align: right;\">\n",
       "      <th></th>\n",
       "      <th>Age</th>\n",
       "      <th>RoomService</th>\n",
       "      <th>FoodCourt</th>\n",
       "      <th>ShoppingMall</th>\n",
       "      <th>Spa</th>\n",
       "      <th>VRDeck</th>\n",
       "      <th>Transported</th>\n",
       "      <th>Deck_A</th>\n",
       "      <th>Deck_B</th>\n",
       "      <th>Deck_C</th>\n",
       "      <th>...</th>\n",
       "      <th>Cabin_G/998/S</th>\n",
       "      <th>Cabin_G/999/P</th>\n",
       "      <th>Cabin_G/999/S</th>\n",
       "      <th>Cabin_T/1/P</th>\n",
       "      <th>Cabin_T/3/P</th>\n",
       "      <th>Destination_55 Cancri e</th>\n",
       "      <th>Destination_PSO J318.5-22</th>\n",
       "      <th>Destination_TRAPPIST-1e</th>\n",
       "      <th>VIP_False</th>\n",
       "      <th>VIP_True</th>\n",
       "    </tr>\n",
       "  </thead>\n",
       "  <tbody>\n",
       "    <tr>\n",
       "      <th>0</th>\n",
       "      <td>39.0</td>\n",
       "      <td>0.0</td>\n",
       "      <td>0.0</td>\n",
       "      <td>0.0</td>\n",
       "      <td>0.0</td>\n",
       "      <td>0.0</td>\n",
       "      <td>False</td>\n",
       "      <td>False</td>\n",
       "      <td>True</td>\n",
       "      <td>False</td>\n",
       "      <td>...</td>\n",
       "      <td>False</td>\n",
       "      <td>False</td>\n",
       "      <td>False</td>\n",
       "      <td>False</td>\n",
       "      <td>False</td>\n",
       "      <td>False</td>\n",
       "      <td>False</td>\n",
       "      <td>True</td>\n",
       "      <td>True</td>\n",
       "      <td>False</td>\n",
       "    </tr>\n",
       "    <tr>\n",
       "      <th>1</th>\n",
       "      <td>24.0</td>\n",
       "      <td>109.0</td>\n",
       "      <td>9.0</td>\n",
       "      <td>25.0</td>\n",
       "      <td>549.0</td>\n",
       "      <td>44.0</td>\n",
       "      <td>True</td>\n",
       "      <td>False</td>\n",
       "      <td>False</td>\n",
       "      <td>False</td>\n",
       "      <td>...</td>\n",
       "      <td>False</td>\n",
       "      <td>False</td>\n",
       "      <td>False</td>\n",
       "      <td>False</td>\n",
       "      <td>False</td>\n",
       "      <td>False</td>\n",
       "      <td>False</td>\n",
       "      <td>True</td>\n",
       "      <td>True</td>\n",
       "      <td>False</td>\n",
       "    </tr>\n",
       "    <tr>\n",
       "      <th>2</th>\n",
       "      <td>58.0</td>\n",
       "      <td>43.0</td>\n",
       "      <td>3576.0</td>\n",
       "      <td>0.0</td>\n",
       "      <td>6715.0</td>\n",
       "      <td>49.0</td>\n",
       "      <td>False</td>\n",
       "      <td>True</td>\n",
       "      <td>False</td>\n",
       "      <td>False</td>\n",
       "      <td>...</td>\n",
       "      <td>False</td>\n",
       "      <td>False</td>\n",
       "      <td>False</td>\n",
       "      <td>False</td>\n",
       "      <td>False</td>\n",
       "      <td>False</td>\n",
       "      <td>False</td>\n",
       "      <td>True</td>\n",
       "      <td>False</td>\n",
       "      <td>True</td>\n",
       "    </tr>\n",
       "    <tr>\n",
       "      <th>3</th>\n",
       "      <td>33.0</td>\n",
       "      <td>0.0</td>\n",
       "      <td>1283.0</td>\n",
       "      <td>371.0</td>\n",
       "      <td>3329.0</td>\n",
       "      <td>193.0</td>\n",
       "      <td>False</td>\n",
       "      <td>True</td>\n",
       "      <td>False</td>\n",
       "      <td>False</td>\n",
       "      <td>...</td>\n",
       "      <td>False</td>\n",
       "      <td>False</td>\n",
       "      <td>False</td>\n",
       "      <td>False</td>\n",
       "      <td>False</td>\n",
       "      <td>False</td>\n",
       "      <td>False</td>\n",
       "      <td>True</td>\n",
       "      <td>True</td>\n",
       "      <td>False</td>\n",
       "    </tr>\n",
       "    <tr>\n",
       "      <th>4</th>\n",
       "      <td>16.0</td>\n",
       "      <td>303.0</td>\n",
       "      <td>70.0</td>\n",
       "      <td>151.0</td>\n",
       "      <td>565.0</td>\n",
       "      <td>2.0</td>\n",
       "      <td>True</td>\n",
       "      <td>False</td>\n",
       "      <td>False</td>\n",
       "      <td>False</td>\n",
       "      <td>...</td>\n",
       "      <td>False</td>\n",
       "      <td>False</td>\n",
       "      <td>False</td>\n",
       "      <td>False</td>\n",
       "      <td>False</td>\n",
       "      <td>False</td>\n",
       "      <td>False</td>\n",
       "      <td>True</td>\n",
       "      <td>True</td>\n",
       "      <td>False</td>\n",
       "    </tr>\n",
       "  </tbody>\n",
       "</table>\n",
       "<p>5 rows × 5330 columns</p>\n",
       "</div>"
      ],
      "text/plain": [
       "    Age  RoomService  FoodCourt  ShoppingMall     Spa  VRDeck  Transported  \\\n",
       "0  39.0          0.0        0.0           0.0     0.0     0.0        False   \n",
       "1  24.0        109.0        9.0          25.0   549.0    44.0         True   \n",
       "2  58.0         43.0     3576.0           0.0  6715.0    49.0        False   \n",
       "3  33.0          0.0     1283.0         371.0  3329.0   193.0        False   \n",
       "4  16.0        303.0       70.0         151.0   565.0     2.0         True   \n",
       "\n",
       "   Deck_A  Deck_B  Deck_C  ...  Cabin_G/998/S  Cabin_G/999/P  Cabin_G/999/S  \\\n",
       "0   False    True   False  ...          False          False          False   \n",
       "1   False   False   False  ...          False          False          False   \n",
       "2    True   False   False  ...          False          False          False   \n",
       "3    True   False   False  ...          False          False          False   \n",
       "4   False   False   False  ...          False          False          False   \n",
       "\n",
       "   Cabin_T/1/P  Cabin_T/3/P  Destination_55 Cancri e  \\\n",
       "0        False        False                    False   \n",
       "1        False        False                    False   \n",
       "2        False        False                    False   \n",
       "3        False        False                    False   \n",
       "4        False        False                    False   \n",
       "\n",
       "   Destination_PSO J318.5-22  Destination_TRAPPIST-1e  VIP_False  VIP_True  \n",
       "0                      False                     True       True     False  \n",
       "1                      False                     True       True     False  \n",
       "2                      False                     True      False      True  \n",
       "3                      False                     True       True     False  \n",
       "4                      False                     True       True     False  \n",
       "\n",
       "[5 rows x 5330 columns]"
      ]
     },
     "execution_count": 4,
     "metadata": {},
     "output_type": "execute_result"
    }
   ],
   "source": [
    "# dummies from categorical data\n",
    "spaceship_dummies = pd.get_dummies(spaceship, columns=['HomePlanet', 'CryoSleep', 'Cabin', 'Destination', 'VIP'])\n",
    "\n",
    "spaceship_dummies.head()"
   ]
  },
  {
   "cell_type": "markdown",
   "metadata": {},
   "source": [
    "- Now let's use the best model we got so far in order to see how it can improve when we fine tune it's hyperparameters."
   ]
  },
  {
   "cell_type": "markdown",
   "metadata": {},
   "source": [
    "### Random Forest Classifier"
   ]
  },
  {
   "cell_type": "markdown",
   "metadata": {},
   "source": [
    "Separate Features"
   ]
  },
  {
   "cell_type": "code",
   "execution_count": null,
   "metadata": {},
   "outputs": [],
   "source": [
    "X = spaceship_dummies.drop(columns=['Transported'])\n",
    "y = spaceship_dummies['Transported']\n",
    "\n",
    "# train split (80% train, 20% test)\n",
    "X_train, X_test, y_train, y_test = train_test_split(X, y, test_size=0.2, random_state=42)"
   ]
  },
  {
   "cell_type": "markdown",
   "metadata": {},
   "source": [
    "Scale features: Fit on training data, then transform both training and testing data"
   ]
  },
  {
   "cell_type": "code",
   "execution_count": 6,
   "metadata": {},
   "outputs": [],
   "source": [
    "scaler = StandardScaler()\n",
    "X_train = scaler.fit_transform(X_train)\n",
    "X_test = scaler.transform(X_test)"
   ]
  },
  {
   "cell_type": "markdown",
   "metadata": {},
   "source": [
    "Display Shapes"
   ]
  },
  {
   "cell_type": "code",
   "execution_count": 7,
   "metadata": {},
   "outputs": [
    {
     "name": "stdout",
     "output_type": "stream",
     "text": [
      "Training Features Shape: (5284, 5329)\n",
      "Testing Features Shape: (1322, 5329)\n",
      "Training Target Shape: (5284,)\n",
      "Testing Target Shape: (1322,)\n"
     ]
    }
   ],
   "source": [
    "print(f'Training Features Shape: {X_train.shape}')\n",
    "print(f'Testing Features Shape: {X_test.shape}')\n",
    "print(f'Training Target Shape: {y_train.shape}')\n",
    "print(f'Testing Target Shape: {y_test.shape}')"
   ]
  },
  {
   "cell_type": "code",
   "execution_count": 8,
   "metadata": {},
   "outputs": [],
   "source": [
    "# init\n",
    "random_forest_model = RandomForestClassifier(\n",
    "    n_estimators=50,\n",
    "    max_samples=0.8,\n",
    "    random_state=42\n",
    ")\n",
    "\n",
    "# train model\n",
    "random_forest_model.fit(X_train, y_train)\n",
    "\n",
    "# predictions\n",
    "y_pred_rf = random_forest_model.predict(X_test)"
   ]
  },
  {
   "cell_type": "markdown",
   "metadata": {},
   "source": [
    "- Evaluate your model"
   ]
  },
  {
   "cell_type": "code",
   "execution_count": 9,
   "metadata": {},
   "outputs": [
    {
     "name": "stdout",
     "output_type": "stream",
     "text": [
      "Accuracy: 0.8056\n",
      "\n",
      "Classification Report:\n",
      "              precision    recall  f1-score   support\n",
      "\n",
      "       False       0.79      0.82      0.81       653\n",
      "        True       0.82      0.79      0.81       669\n",
      "\n",
      "    accuracy                           0.81      1322\n",
      "   macro avg       0.81      0.81      0.81      1322\n",
      "weighted avg       0.81      0.81      0.81      1322\n",
      "\n",
      "\n",
      "Confusion Matrix:\n",
      "[[534 119]\n",
      " [138 531]]\n"
     ]
    }
   ],
   "source": [
    "accuracy = accuracy_score(y_test, y_pred_rf)\n",
    "print(f'Accuracy: {accuracy:.4f}')\n",
    "\n",
    "print('\\nClassification Report:')\n",
    "print(classification_report(y_test, y_pred_rf))\n",
    "\n",
    "# Print confusion mtrix\n",
    "print('\\nConfusion Matrix:')\n",
    "print(confusion_matrix(y_test, y_pred_rf))"
   ]
  },
  {
   "cell_type": "code",
   "execution_count": null,
   "metadata": {},
   "outputs": [
    {
     "name": "stdout",
     "output_type": "stream",
     "text": [
      "\n",
      "Cross-Validation Scores: [0.80605487 0.77956481 0.78618732 0.77578051 0.77746212]\n",
      "Mean Cross-Validation Score: 0.7850\n"
     ]
    }
   ],
   "source": [
    "cv_scores = cross_val_score(random_forest_model, X_train, y_train, cv=5)  # 5-fold cross-validation\n",
    "print(f'\\nCross-Validation Scores: {cv_scores}')\n",
    "print(f'Mean Cross-Validation Score: {cv_scores.mean():.4f}')"
   ]
  },
  {
   "cell_type": "markdown",
   "metadata": {},
   "source": [
    "**Grid/Random Search**"
   ]
  },
  {
   "cell_type": "markdown",
   "metadata": {},
   "source": [
    "For this lab we will use Grid Search."
   ]
  },
  {
   "cell_type": "markdown",
   "metadata": {},
   "source": [
    "- Define hyperparameters to fine tune."
   ]
  },
  {
   "cell_type": "code",
   "execution_count": null,
   "metadata": {},
   "outputs": [
    {
     "name": "stdout",
     "output_type": "stream",
     "text": [
      "Fitting 3 folds for each of 24 candidates, totalling 72 fits\n"
     ]
    }
   ],
   "source": [
    "random_forest_model = RandomForestClassifier(random_state=42)\n",
    "\n",
    "# hyperparameters to search over\n",
    "param_grid = {\n",
    "    'n_estimators': [10, 50, 100],               \n",
    "    'max_depth': [None, 10],                      \n",
    "    'min_samples_split': [2, 5],                   \n",
    "    'min_samples_leaf': [1, 2],                    \n",
    "    'bootstrap': [True],                           \n",
    "}\n",
    "\n",
    "# Grid Search with 3-fold cross-validation\n",
    "grid_search = GridSearchCV(estimator=random_forest_model,\n",
    "                           param_grid=param_grid,\n",
    "                           cv=3,                    \n",
    "                           n_jobs=1,                \n",
    "                           verbose=1,               \n",
    "                           scoring='accuracy')      \n",
    "\n",
    "# fit grid search\n",
    "grid_search.fit(X_train, y_train)"
   ]
  },
  {
   "cell_type": "markdown",
   "metadata": {},
   "source": [
    "- Evaluate your model"
   ]
  },
  {
   "cell_type": "code",
   "execution_count": null,
   "metadata": {},
   "outputs": [],
   "source": [
    "# best parameters and score from grid search\n",
    "print(f'Best Parameters: {grid_search.best_params_}')\n",
    "print(f'Best Accuracy: {grid_search.best_score_:.4f}')"
   ]
  }
 ],
 "metadata": {
  "kernelspec": {
   "display_name": "base",
   "language": "python",
   "name": "python3"
  },
  "language_info": {
   "codemirror_mode": {
    "name": "ipython",
    "version": 3
   },
   "file_extension": ".py",
   "mimetype": "text/x-python",
   "name": "python",
   "nbconvert_exporter": "python",
   "pygments_lexer": "ipython3",
   "version": "3.12.2"
  }
 },
 "nbformat": 4,
 "nbformat_minor": 2
}
